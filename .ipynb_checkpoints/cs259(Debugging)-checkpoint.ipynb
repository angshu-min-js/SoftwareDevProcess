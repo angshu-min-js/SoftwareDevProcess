{
 "cells": [
  {
   "cell_type": "markdown",
   "metadata": {},
   "source": [
    "![Debugging](./debugging1.JPG)\n",
    "![Debugging](./debugging2.JPG)\n",
    "![Debugging](./debugging3.JPG)\n"
   ]
  },
  {
   "cell_type": "markdown",
   "metadata": {},
   "source": [
    "- Tracking Bug\n",
    "- Reproducing the problem\n",
    "- Automate + Simpify\n",
    "- Find the possible origin of the problem\n",
    "- Focus on most likely origins\n",
    "- Isolate the infection chain\n",
    "- Correct the defect"
   ]
  },
  {
   "cell_type": "code",
   "execution_count": null,
   "metadata": {
    "collapsed": true
   },
   "outputs": [],
   "source": []
  }
 ],
 "metadata": {
  "kernelspec": {
   "display_name": "Python 3",
   "language": "python",
   "name": "python3"
  },
  "language_info": {
   "codemirror_mode": {
    "name": "ipython",
    "version": 3
   },
   "file_extension": ".py",
   "mimetype": "text/x-python",
   "name": "python",
   "nbconvert_exporter": "python",
   "pygments_lexer": "ipython3",
   "version": "3.5.2"
  }
 },
 "nbformat": 4,
 "nbformat_minor": 1
}
