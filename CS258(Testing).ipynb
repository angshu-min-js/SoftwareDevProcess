{
 "cells": [
  {
   "cell_type": "markdown",
   "metadata": {},
   "source": [
    "# Testing \n",
    "![What is testing](./testing1.JPG)\n",
    "- Specification Bug: Famous Mars Climate Orbiter incident because of the unit mismatch between NASA and Lockheed Martin"
   ]
  },
  {
   "cell_type": "code",
   "execution_count": 4,
   "metadata": {
    "collapsed": false
   },
   "outputs": [
    {
     "name": "stdout",
     "output_type": "stream",
     "text": [
      "test1 OK\n",
      "test2 OK\n"
     ]
    }
   ],
   "source": [
    "import array\n",
    "\n",
    "class Queue:\n",
    "    def __init__(self,size_max):\n",
    "        assert size_max > 0\n",
    "        self.max = size_max\n",
    "        self.head = 0\n",
    "        self.tail = 0\n",
    "        self.size = 0\n",
    "        self.data = array.array('i', range(size_max))\n",
    "\n",
    "    def empty(self):\n",
    "        return self.size == 0\n",
    "\n",
    "    def full(self):\n",
    "        return self.size == self.max\n",
    "\n",
    "    def enqueue(self,x):\n",
    "        if self.size == self.max:\n",
    "            return False\n",
    "        self.data[self.tail] = x\n",
    "        self.size += 1\n",
    "        self.tail += 1\n",
    "        if self.tail == self.max:\n",
    "            self.tail = 0\n",
    "        return True\n",
    "\n",
    "    def dequeue(self):\n",
    "        if self.size == 0:\n",
    "            return None\n",
    "        x = self.data[self.head]\n",
    "        self.size -= 1\n",
    "        self.head += 1\n",
    "        if self.head == self.max:\n",
    "            self.head = 0\n",
    "        return x\n",
    "\n",
    "\n",
    "def test1():\n",
    "    q = Queue(3)\n",
    "    res = q.empty()\n",
    "    if not res:\n",
    "        print (\"test1 NOT OK\")\n",
    "        return\n",
    "    res = q.enqueue(10)\n",
    "    if not res:\n",
    "        print (\"test1 NOT OK\")\n",
    "        return\n",
    "    res = q.enqueue(11)\n",
    "    if not res:\n",
    "        print (\"test1 NOT OK\")\n",
    "        return\n",
    "    x = q.dequeue()\n",
    "    if x != 10:\n",
    "        print (\"test1 NOT OK\")\n",
    "        return\n",
    "    x = q.dequeue()\n",
    "    if x != 11:\n",
    "        print (\"test1 NOT OK\")\n",
    "        return\n",
    "    res = q.empty()\n",
    "    if not res:\n",
    "        print (\"test1 NOT OK\")\n",
    "        return\n",
    "    print (\"test1 OK\")\n",
    "\n",
    "def test2():\n",
    "    q = Queue(2)\n",
    "    res = q.empty()\n",
    "    if not res:\n",
    "        print (\"test2 NOT OK\")\n",
    "        return\n",
    "    res = q.enqueue(1)\n",
    "    if not res:\n",
    "        print (\"test2 NOT OK\")\n",
    "        return\n",
    "    res = q.enqueue(2)\n",
    "    if not res:\n",
    "        print (\"test2 NOT OK\")\n",
    "        return\n",
    "    res = q.enqueue(3)\n",
    "    if q.tail != 0:\n",
    "        print (\"test2 NOT OK\")\n",
    "        return\n",
    "    print (\"test2 OK\")\n",
    "\n",
    "def test3():\n",
    "    q = Queue(1)\n",
    "    res = q.empty()\n",
    "    if not res:\n",
    "        print (\"test2 NOT OK\")\n",
    "        return\n",
    "    x = q.dequeue()\n",
    "    if not x is None:\n",
    "        print (\"test2 NOT OK\")\n",
    "        return\n",
    "    \n",
    "test1()\n",
    "test2()\n",
    "test3()"
   ]
  },
  {
   "cell_type": "markdown",
   "metadata": {},
   "source": [
    "## Asertions\n",
    "![Asertion](./testing2.JPG)\n",
    "![Asertion](./testing3.JPG)\n",
    "- To disable Assertion in Python: `python -O`\n",
    "- Unit Testing\n",
    "- Intregation Testing\n",
    "- System Testing\n",
    "![Asertion](./testing4.JPG)"
   ]
  },
  {
   "cell_type": "markdown",
   "metadata": {
    "collapsed": true
   },
   "source": [
    "## Coverage Testing\n",
    "![Coverage](./testing5.JPG)\n",
    "- Line Coverage -> Statement Coverage\n",
    "- Branch Coverage -> Decision Coverage\n",
    "- Loop Coverage\n",
    "- MC/DC Coverage -> Decision + Branch\n",
    "- Path Coverage\n",
    "- Boundary Coverage"
   ]
  },
  {
   "cell_type": "code",
   "execution_count": null,
   "metadata": {
    "collapsed": true
   },
   "outputs": [],
   "source": []
  }
 ],
 "metadata": {
  "kernelspec": {
   "display_name": "Python 3",
   "language": "python",
   "name": "python3"
  },
  "language_info": {
   "codemirror_mode": {
    "name": "ipython",
    "version": 3
   },
   "file_extension": ".py",
   "mimetype": "text/x-python",
   "name": "python",
   "nbconvert_exporter": "python",
   "pygments_lexer": "ipython3",
   "version": "3.5.2"
  }
 },
 "nbformat": 4,
 "nbformat_minor": 1
}
